{
 "cells": [
  {
   "cell_type": "markdown",
   "metadata": {},
   "source": [
    "# EDA for Benchmark"
   ]
  },
  {
   "cell_type": "markdown",
   "metadata": {},
   "source": [
    "## 1. Abstract\n",
    "### 1.1  Introduction  \n",
    "This is is to analyze the benchmark of the paper: Are Transformers Effective for Time Series Forecasting? \n",
    "https://ar5iv.labs.arxiv.org/html/2205.13504 "
   ]
  },
  {
   "cell_type": "markdown",
   "metadata": {},
   "source": [
    "### 1.2 Data to be used\n",
    "\n",
    "__Univariate data__  \n",
    "The data used in this project comes from the paper: ''Informer: Beyond Efficient Transformer for Long Sequence Time-Series Forecasting''. The github link of the dataset is: https://github.com/zhouhaoyi/ETDataset/tree/main.  \n",
    "This is the four dataset we are going to use:  \n",
    "\n",
    "| Dataset   | Frequency | Region  | Data Points               | Features Description                                                                                               |\n",
    "|-----------|-----------|---------|---------------------------|---------------------------------------------------------------------------------------------------------------------|\n",
    "| ETTh1     | Hourly    | Region 1 | 2 years * 365 days * 24 hours = 17,520 data points | Date, oil temperature, 6 types of external power load features                                                      |\n",
    "| ETTh2     | Hourly    | Region 2 | 2 years * 365 days * 24 hours = 17,520 data points | Date, oil temperature, 6 types of external power load features                                                      |\n",
    "| ETTm1     | Minute    | Region 1 | 2 years * 365 days * 24 hours * 60 minutes = 1,051,200 data points | Date, oil temperature, 6 types of external power load features                                                      |\n",
    "| ETTm2     | Minute    | Region 2 | 2 years * 365 days * 24 hours * 60 minutes = 1,051,200 data points | Date, oil temperature, 6 types of external power load features                                                      |\n"
   ]
  },
  {
   "cell_type": "markdown",
   "metadata": {},
   "source": [
    "This four datasets have the same columns and this is the introduction for them:\n",
    "\n",
    "| Variables       | Explanation                      |\n",
    "|-----------------|----------------------------------|\n",
    "| date            | The recorded date                |\n",
    "| HUFL            | High Useful Load                 |\n",
    "| HULL            | High Useless Load                |\n",
    "| MUFL            | Middle Useful Load               |\n",
    "| MULL            | Middle Useless Load              |\n",
    "| LUFL            | Low Useful Load                  |\n",
    "| LULL            | Low Useless Load                 |\n",
    "| OT              | Oil Temperature (target)         |"
   ]
  },
  {
   "cell_type": "code",
   "execution_count": 4,
   "metadata": {},
   "outputs": [
    {
     "ename": "ModuleNotFoundError",
     "evalue": "No module named 'eda'",
     "output_type": "error",
     "traceback": [
      "\u001b[0;31m---------------------------------------------------------------------------\u001b[0m",
      "\u001b[0;31mModuleNotFoundError\u001b[0m                       Traceback (most recent call last)",
      "Cell \u001b[0;32mIn[4], line 5\u001b[0m\n\u001b[1;32m      3\u001b[0m \u001b[38;5;28;01mimport\u001b[39;00m \u001b[38;5;21;01msys\u001b[39;00m\n\u001b[1;32m      4\u001b[0m sys\u001b[38;5;241m.\u001b[39mpath\u001b[38;5;241m.\u001b[39mappend(\u001b[38;5;124m'\u001b[39m\u001b[38;5;124msrc/snp\u001b[39m\u001b[38;5;124m'\u001b[39m)\n\u001b[0;32m----> 5\u001b[0m \u001b[38;5;28;01mfrom\u001b[39;00m \u001b[38;5;21;01meda\u001b[39;00m \u001b[38;5;28;01mimport\u001b[39;00m EDARunner\n",
      "\u001b[0;31mModuleNotFoundError\u001b[0m: No module named 'eda'"
     ]
    }
   ],
   "source": [
    "import pandas as pd\n",
    "import numpy as np\n",
    "import sys\n",
    "sys.path.append('src/snp')\n",
    "from eda import EDARunner"
   ]
  },
  {
   "cell_type": "code",
   "execution_count": null,
   "metadata": {},
   "outputs": [],
   "source": [
    "ETTh1 = pd.read_csv('https://raw.githubusercontent.com/zhouhaoyi/ETDataset/main/ETT-small/ETTh1.csv')\n",
    "ETTh2 = pd.read_csv('https://raw.githubusercontent.com/zhouhaoyi/ETDataset/main/ETT-small/ETTh2.csv')\n",
    "ETTm1 = pd.read_csv('https://raw.githubusercontent.com/zhouhaoyi/ETDataset/main/ETT-small/ETTm1.csv')\n",
    "ETTm2 = pd.read_csv('https://raw.githubusercontent.com/zhouhaoyi/ETDataset/main/ETT-small/ETTm2.csv')"
   ]
  },
  {
   "cell_type": "markdown",
   "metadata": {},
   "source": [
    "__Multivariate data:__ "
   ]
  },
  {
   "cell_type": "markdown",
   "metadata": {},
   "source": []
  }
 ],
 "metadata": {
  "kernelspec": {
   "display_name": "Python 3",
   "language": "python",
   "name": "python3"
  },
  "language_info": {
   "codemirror_mode": {
    "name": "ipython",
    "version": 3
   },
   "file_extension": ".py",
   "mimetype": "text/x-python",
   "name": "python",
   "nbconvert_exporter": "python",
   "pygments_lexer": "ipython3",
   "version": "3.11.5"
  }
 },
 "nbformat": 4,
 "nbformat_minor": 2
}
